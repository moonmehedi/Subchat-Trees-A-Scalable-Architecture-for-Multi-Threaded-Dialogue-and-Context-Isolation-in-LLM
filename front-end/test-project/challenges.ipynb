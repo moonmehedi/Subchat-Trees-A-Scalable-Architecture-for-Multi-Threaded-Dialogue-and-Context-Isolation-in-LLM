{
 "cells": [
  {
   "cell_type": "markdown",
   "id": "6c287848",
   "metadata": {},
   "source": [
    "## dont retrive redundent memory from the parent node"
   ]
  }
 ],
 "metadata": {
  "language_info": {
   "name": "python"
  }
 },
 "nbformat": 4,
 "nbformat_minor": 5
}
